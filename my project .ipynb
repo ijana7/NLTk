{
  "nbformat": 4,
  "nbformat_minor": 0,
  "metadata": {
    "colab": {
      "provenance": [],
      "authorship_tag": "ABX9TyMUPvraSKoi0F+oMqXutRrN",
      "include_colab_link": true
    },
    "kernelspec": {
      "name": "python3",
      "display_name": "Python 3"
    },
    "language_info": {
      "name": "python"
    }
  },
  "cells": [
    {
      "cell_type": "markdown",
      "metadata": {
        "id": "view-in-github",
        "colab_type": "text"
      },
      "source": [
        "<a href=\"https://colab.research.google.com/github/ijana7/NLTk/blob/main/my%20first%20project%20.ipynb\" target=\"_parent\"><img src=\"https://colab.research.google.com/assets/colab-badge.svg\" alt=\"Open In Colab\"/></a>"
      ]
    },
    {
      "cell_type": "code",
      "execution_count": 1,
      "metadata": {
        "colab": {
          "base_uri": "https://localhost:8080/"
        },
        "id": "dijYVaERFUtn",
        "outputId": "9d93abb2-ba47-4ce6-f8d9-bb8df62d3c39"
      },
      "outputs": [
        {
          "output_type": "stream",
          "name": "stderr",
          "text": [
            "[nltk_data] Downloading package stopwords to /root/nltk_data...\n",
            "[nltk_data]   Unzipping corpora/stopwords.zip.\n",
            "[nltk_data] Downloading package punkt to /root/nltk_data...\n",
            "[nltk_data]   Unzipping tokenizers/punkt.zip.\n"
          ]
        },
        {
          "output_type": "stream",
          "name": "stdout",
          "text": [
            "Original Text:  Data science is an interdisciplinary field that uses scientific methods, processes, algorithms, and systems to extract knowledge and insights from data.\n",
            "Stemmed Tokens:  ['data', 'scienc', 'is', 'an', 'interdisciplinari', 'field', 'that', 'use', 'scientif', 'method', ',', 'process', ',', 'algorithm', ',', 'and', 'system', 'to', 'extract', 'knowledg', 'and', 'insight', 'from', 'data', '.']\n",
            "Filtered Tokens:  ['data', 'scienc', 'interdisciplinari', 'field', 'use', 'scientif', 'method', ',', 'process', ',', 'algorithm', ',', 'system', 'extract', 'knowledg', 'insight', 'data', '.']\n"
          ]
        }
      ],
      "source": [
        "import nltk\n",
        "from nltk.tokenize import word_tokenize\n",
        "from nltk.stem import PorterStemmer\n",
        "from nltk.corpus import stopwords\n",
        "\n",
        "nltk.download('stopwords')\n",
        "nltk.download('punkt')\n",
        "\n",
        "stop_words = set(stopwords.words('english'))\n",
        "\n",
        "text = \"Data science is an interdisciplinary field that uses scientific methods, processes, algorithms, and systems to extract knowledge and insights from data.\"\n",
        "\n",
        "tokens = word_tokenize(text)\n",
        "stemmer = PorterStemmer()\n",
        "stemmed_tokens = [stemmer.stem(token) for token in tokens]\n",
        "filtered_tokens = [token for token in stemmed_tokens if token.lower() not in stop_words]\n",
        "\n",
        "print(\"Original Text: \", text)\n",
        "print(\"Stemmed Tokens: \", stemmed_tokens)\n",
        "print(\"Filtered Tokens: \", filtered_tokens)"
      ]
    }
  ]
}
